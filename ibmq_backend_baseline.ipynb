{
 "cells": [
  {
   "attachments": {},
   "cell_type": "markdown",
   "id": "6e8f6b50-781f-4e03-951e-94fe73136bea",
   "metadata": {
    "slideshow": {
     "slide_type": "-"
    },
    "tags": []
   },
   "source": [
    "## 실제 하드웨어에 실행 준비\n",
    "\n",
    "필요한 모든 것을 준비해 봅시다."
   ]
  },
  {
   "cell_type": "code",
   "execution_count": 1,
   "id": "e7472b15-0be2-447b-9b66-6e57ca915fab",
   "metadata": {
    "slideshow": {
     "slide_type": "-"
    },
    "tags": []
   },
   "outputs": [],
   "source": [
    "# Importing provider and getting access to the system\n",
    "from qiskit_ibm_provider import IBMProvider\n",
    "from qiskit import transpile\n",
    "\n",
    "\n",
    "provider = IBMProvider()\n",
    "\n",
    "hub = \"ibm-q-skku\"\n",
    "group = \"hackathon-2023\"\n",
    "project = \"hackathon\"\n",
    "\n",
    "backend_name = \"ibm_seattle\"\n",
    "backend = provider.get_backend(backend_name, instance=f\"{hub}/{group}/{project}\")\n",
    "\n",
    "number_of_shots: int = 1024"
   ]
  },
  {
   "attachments": {},
   "cell_type": "markdown",
   "id": "51277fb1-4759-456b-8b04-1c9a720cf4c8",
   "metadata": {
    "slideshow": {
     "slide_type": "-"
    },
    "tags": []
   },
   "source": [
    "먼저 실제 장치에 회로가 실행될 수 있도록 양자 회로를 트랜스파일합니다. 처음에 회로를 만들 때 이미 물리적 장치를 염두에 두고 이미 연결된 큐비트들만 사용했기 때문에 너무 많은 변경은 발생하지 않을 것입니다. \n",
    "\n",
    "만약 그렇게 하지 않았다면 다시 돌아가서 고치기에 좋은 타이밍입니다."
   ]
  },
  {
   "cell_type": "code",
   "execution_count": null,
   "id": "770c2477-0c21-4dd0-8ccb-96268b88f323",
   "metadata": {
    "slideshow": {
     "slide_type": "-"
    },
    "tags": []
   },
   "outputs": [],
   "source": [
    "# First we transpile the GHZ-state for the actual device\n",
    "qc_transpiled = transpile(simple_ghz, backend, initial_layout=initial_layout)"
   ]
  },
  {
   "attachments": {},
   "cell_type": "markdown",
   "id": "3d20d85e-cef3-4b4d-a206-1ee9f452fcb0",
   "metadata": {
    "slideshow": {
     "slide_type": "-"
    },
    "tags": []
   },
   "source": [
    "이제 만들어진 회로는 127 큐비트 장치에서 실행 될 수 있게 되었습니다! \n",
    "다음에 찾기 쉽도록 태그를 붙여 둡시다. \n",
    "\n",
    "장비에 잡을 실행하는 것은 얼마나 많은 사람들이 잡을 실행하기 위해 대기열에 대기중인지에 따라 결정됩니다. "
   ]
  },
  {
   "cell_type": "code",
   "execution_count": null,
   "id": "2f71e153-d6ee-4502-b60f-35b61f0ef555",
   "metadata": {
    "slideshow": {
     "slide_type": "-"
    },
    "tags": []
   },
   "outputs": [],
   "source": [
    "# Now we can run the job\n",
    "# We add memory=true to be easier able to analyse  how good the result were and the tags to make it easier to find it later.\n",
    "job = backend.run(\n",
    "    qc_transpiled,\n",
    "    shots=number_of_shots,\n",
    "    memory=True,\n",
    "    job_tags=[\"ghz_state\", \"spring_challenge\"],\n",
    ")\n",
    "\n",
    "job_id = job.job_id()\n",
    "print(job_id)"
   ]
  },
  {
   "attachments": {},
   "cell_type": "markdown",
   "id": "b670ae95",
   "metadata": {},
   "source": [
    "작업을 백엔드에 전송해 둔 후 나중에 돌아와서 작업의 결과를 가져오려는 경우, IBM Quantum Computing 홈페이지(위에 사용된 태그 포함)에서 해당 작업을 찾고 작업의 이름(ID)을 복사한 다음 아래의 *job_id*를 해당 작업으로 대체할 수 있습니다. 작업 ID는 다음과 같이 보여야 합니다. *ch36cf1plju56fajrqg*\n",
    "\n",
    "혹은 위의 코드셀에서 저장한 job_id를 바로 사용할 수도 있습니다."
   ]
  },
  {
   "cell_type": "code",
   "execution_count": null,
   "id": "7f4cec87",
   "metadata": {},
   "outputs": [],
   "source": [
    "job = provider.retrieve_job(job_id)\n",
    "job.status()"
   ]
  },
  {
   "cell_type": "code",
   "execution_count": null,
   "id": "50c5dd71",
   "metadata": {},
   "outputs": [],
   "source": [
    "# Getting the data of the job for testing\n",
    "data = retrieve_job.result().get_memory()"
   ]
  }
 ],
 "metadata": {
  "celltoolbar": "Slideshow",
  "kernelspec": {
   "display_name": "Python 3.10.6 ('.venv': venv)",
   "language": "python",
   "name": "python3"
  },
  "language_info": {
   "codemirror_mode": {
    "name": "ipython",
    "version": 3
   },
   "file_extension": ".py",
   "mimetype": "text/x-python",
   "name": "python",
   "nbconvert_exporter": "python",
   "pygments_lexer": "ipython3",
   "version": "3.10.6"
  },
  "vscode": {
   "interpreter": {
    "hash": "cd838ed429365021571362c51f8a905fc213e25cce9f375e941ccfab53a3a26c"
   }
  },
  "widgets": {
   "application/vnd.jupyter.widget-state+json": {
    "state": {},
    "version_major": 2,
    "version_minor": 0
   }
  }
 },
 "nbformat": 4,
 "nbformat_minor": 5
}
