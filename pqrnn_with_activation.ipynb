{
 "cells": [
  {
   "attachments": {},
   "cell_type": "markdown",
   "id": "6e6ddc15-8d23-4fdd-a26c-597e1b22d0f5",
   "metadata": {},
   "source": [
    "## 1. Module Import and Hyper-parameters Setting"
   ]
  },
  {
   "attachments": {},
   "cell_type": "markdown",
   "id": "0ef8ebe5-d5f6-4b21-ab6c-30f9bcaf3ae7",
   "metadata": {
    "tags": []
   },
   "source": [
    "### 1-1. Setup & Module Import"
   ]
  },
  {
   "cell_type": "code",
   "execution_count": null,
   "id": "a2e7bbae-5faf-49de-acbb-5502d37170e9",
   "metadata": {
    "tags": []
   },
   "outputs": [],
   "source": [
    "# Importing standard Qiskit libraries\n",
    "from qiskit import QuantumCircuit, transpile, QuantumRegister, ClassicalRegister, Aer\n",
    "from qiskit.circuit import ParameterVector\n",
    "from qiskit.tools.jupyter import *\n",
    "from qiskit.visualization import *\n",
    "from qiskit.utils import algorithm_globals\n",
    "\n",
    "#from qiskit_machine_learning.neural_networks import EstimatorQNN\n",
    "#from qiskit.primitives import Estimator\n",
    "\n",
    "# qiskit-ibmq-provider has been deprecated.\n",
    "# Please see the Migration Guides in https://ibm.biz/provider_migration_guide for more detail.\n",
    "from qiskit_ibm_runtime import QiskitRuntimeService, Sampler, Estimator, Session, Options\n",
    "\n",
    "# Loading your IBM Quantum account(s)\n",
    "service = QiskitRuntimeService(channel=\"ibm_quantum\")\n",
    "backend = service.backend(\"ibmq_qasm_simulator\")\n",
    "\n",
    "# Invoke a primitive. For more details see https://qiskit.org/documentation/partners/qiskit_ibm_runtime/tutorials.html\n",
    "# result = Sampler(\"ibmq_qasm_simulator\").run(circuits).result()\n",
    "\n",
    "# Importing Matplotlib & Numpy\n",
    "import matplotlib.pyplot as plt\n",
    "%matplotlib inline\n",
    "import numpy as np\n",
    "from numpy.random import default_rng\n",
    "\n",
    "from IPython.display import clear_output"
   ]
  },
  {
   "attachments": {},
   "cell_type": "markdown",
   "id": "aca4e952-151b-468b-a1e6-35b6cb2387d8",
   "metadata": {},
   "source": [
    "### 1-2. Setting of the main hyper-parameters of the model"
   ]
  },
  {
   "cell_type": "code",
   "execution_count": null,
   "id": "eb91baf2-9196-4900-8548-e71e6f1aff52",
   "metadata": {
    "tags": []
   },
   "outputs": [],
   "source": [
    "BATCH_SIZE = 100\n",
    "N_QUBITS = 4 # Number of qubits allocated to each of two quantum registers. Number of Ansatz input Qubits = 2 * N_QUBITS - 2, RUS input Qubits = N_QUBITS - 1\n",
    "N_STEPS = 2\n",
    "N_SHOTS = 1024\n",
    "\n",
    "# Those parameters are determined by above parameters\n",
    "N_ANSATZ_QUBITS = 2*N_QUBITS - 1\n",
    "N_HIDDEN_QUBITS = N_QUBITS - 1\n",
    "N_RUS_QUBITS = N_QUBITS - 1\n",
    "N_TOTAL_QUBITS = N_ANSATZ_QUBITS + N_RUS_QUBITS\n",
    "N_PARAMS = 4 * N_ANSATZ_QUBITS * N_STEPS\n",
    "N_THETAS = N_RUS_QUBITS * N_STEPS\n",
    "# iteration = 100\n",
    "# N_EPOCHS = 30\n",
    "# N_LAYERS = 1    # Number of random layers\n",
    "\n",
    "# SAVE_PATH = \"aeqis/\" # Data saving folder\n",
    "SEED = 23\n",
    "np.random.seed(SEED)        # Seed for NumPy random number generator\n",
    "rng = default_rng(SEED)\n",
    "algorithm_globals.random_seed = SEED\n",
    "\n",
    "isReal = False # 'True' for real device or 'False' for simulator\n",
    "# use_gpu = False"
   ]
  },
  {
   "attachments": {},
   "cell_type": "markdown",
   "id": "ea5cdcf7-5eb0-4af4-ab3c-a48201e7e6c9",
   "metadata": {},
   "source": [
    "### 1-3. Data loading"
   ]
  },
  {
   "cell_type": "code",
   "execution_count": null,
   "id": "57f0a258-790f-4f09-95d6-d7192e497450",
   "metadata": {
    "tags": []
   },
   "outputs": [],
   "source": [
    "# Code fot data loading\n",
    "input_data = np.random.rand(N_STEPS) * 2\n",
    "input_data -= 1\n",
    "print(input_data)\n",
    "print(np.arccos(input_data))"
   ]
  },
  {
   "attachments": {},
   "cell_type": "markdown",
   "id": "8ad4de47-8c92-4f8d-bba9-66c7f14c6f6e",
   "metadata": {},
   "source": [
    "## 2. Construct Quantum Circuit"
   ]
  },
  {
   "attachments": {},
   "cell_type": "markdown",
   "id": "255ab5ef-167d-462b-a31c-87baf267c84e",
   "metadata": {},
   "source": [
    "### 2-1. Initializing"
   ]
  },
  {
   "cell_type": "code",
   "execution_count": null,
   "id": "8dbce1b4-f94c-43ec-a229-7ea7d0a3a8a6",
   "metadata": {
    "tags": []
   },
   "outputs": [],
   "source": [
    "# Setup a base quantum circuit for our experiments\n",
    "\"\"\"\n",
    "reg_d is used to embed the sequential data, one element at each time step\n",
    "reg_h is used to store information about the history of all previous elements\n",
    "\"\"\"\n",
    "qr_ansatz = QuantumRegister(N_ANSATZ_QUBITS + N_ANSATZ_QUBITS)\n",
    "reg_d = qr_ansatz[0:N_QUBITS]\n",
    "reg_h = qr_ansatz[N_QUBITS:N_ANSATZ_QUBITS]\n",
    "reg_ansatz = qr_ansatz[0:N_ANSATZ_QUBITS]\n",
    "reg_rus = qr_ansatz[N_ANSATZ_QUBITS:N_TOTAL_QUBITS]\n",
    "\n",
    "# Output at each time step\n",
    "cr_y = ClassicalRegister(N_STEPS, name='cr_y')\n",
    "cr_x = ClassicalRegister(N_RUS_QUBITS*N_STEPS, name='cr_x')\n",
    "cr_rus = ClassicalRegister(N_RUS_QUBITS*N_STEPS, name='cr_rus')\n",
    "\n",
    "# Adjustable parameters to be optimized in the learning process\n",
    "params = ParameterVector('P', N_PARAMS)\n",
    "rus_thetas = ParameterVector('th', N_THETAS)\n",
    "input_seq = ParameterVector('x', N_STEPS)\n",
    "\n",
    "# Initializing\n",
    "def initialize_circuit() -> QuantumCircuit:\n",
    "    return QuantumCircuit(qr_ansatz, cr_y, cr_x, cr_rus)"
   ]
  },
  {
   "cell_type": "code",
   "execution_count": null,
   "id": "89d26975-c4f6-40d5-9c4b-6d5e8b082dcc",
   "metadata": {
    "tags": []
   },
   "outputs": [],
   "source": [
    "initial_state = initialize_circuit()\n",
    "\n",
    "initial_state.draw(output=\"mpl\")"
   ]
  },
  {
   "attachments": {},
   "cell_type": "markdown",
   "id": "3d06171a-7762-45a5-9ad4-8fb98d93c570",
   "metadata": {},
   "source": [
    "### 2-2. Angle Encoding"
   ]
  },
  {
   "cell_type": "code",
   "execution_count": null,
   "id": "54c6fc85-c2e7-4bd0-a05e-13cc76da1abd",
   "metadata": {
    "tags": []
   },
   "outputs": [],
   "source": [
    "def encode_angle(qc, input_data, qr_data, n_data_qubits):\n",
    "    # input_data /= np.max(np.abs(input_data),axis=0)\n",
    "    encoded_angle = np.arccos(input_data)\n",
    "    for i in range(n_data_qubits):\n",
    "        qc.ry(encoded_angle, qr_data[i])\n",
    "    return qc\n",
    "\n",
    "# The circuit encoding our qubit\n",
    "encoding_circuit = encode_angle(initialize_circuit(), input_seq[0], reg_d, N_QUBITS)\n",
    "encoding_circuit.draw(\"mpl\")"
   ]
  },
  {
   "attachments": {},
   "cell_type": "markdown",
   "id": "74637b42-3f6c-4cd3-8e83-219532b52ad8",
   "metadata": {},
   "source": [
    "### 2-3. Arbitrary single-qubit gates"
   ]
  },
  {
   "cell_type": "code",
   "execution_count": null,
   "id": "6f6dea24-f0ce-4043-adfb-824e57d7fa6d",
   "metadata": {
    "tags": []
   },
   "outputs": [],
   "source": [
    "def apply_single_qubit_gates(qc, qr_ansatz, params, n_ansatz_qubits):\n",
    "    if not isReal:\n",
    "        qc.barrier()\n",
    "    for i in range(n_ansatz_qubits):\n",
    "        qc.rx(params[3*i], qr_ansatz[i])\n",
    "        qc.rz(params[3*i+1], qr_ansatz[i])\n",
    "        qc.rx(params[3*i+2], qr_ansatz[i])\n",
    "    return qc\n",
    "\n",
    "single_rotation = apply_single_qubit_gates(initialize_circuit(), reg_ansatz, params[0:3*N_ANSATZ_QUBITS], N_ANSATZ_QUBITS)\n",
    "single_rotation.draw(\"mpl\")"
   ]
  },
  {
   "attachments": {},
   "cell_type": "markdown",
   "id": "2b77a7e1-9c56-4a2a-bba6-8d639bac2a64",
   "metadata": {},
   "source": [
    "### 2-4. Rzz gates"
   ]
  },
  {
   "cell_type": "code",
   "execution_count": null,
   "id": "f0b6a88d-564a-4de6-a3e4-aa5173e78f5b",
   "metadata": {
    "tags": []
   },
   "outputs": [],
   "source": [
    "def apply_two_qubit_gates(qc, qr_ansatz, params, n_ansatz_qubits):\n",
    "    if not isReal:\n",
    "        qc.barrier()\n",
    "    for i in range(-n_ansatz_qubits, 0):\n",
    "        qc.cx(qr_ansatz[i], qr_ansatz[i+1])\n",
    "        qc.rz(params[i], qr_ansatz[i+1])\n",
    "        qc.cx(qr_ansatz[i], qr_ansatz[i+1])\n",
    "    return qc\n",
    "\n",
    "controlled_rotation = apply_two_qubit_gates(initialize_circuit(), reg_ansatz, params[3*N_ANSATZ_QUBITS:4*N_ANSATZ_QUBITS], N_ANSATZ_QUBITS)\n",
    "controlled_rotation.draw(\"mpl\")"
   ]
  },
  {
   "attachments": {},
   "cell_type": "markdown",
   "id": "c0d69ca5-e976-4a7e-88bc-2fb02cdf1595",
   "metadata": {},
   "source": [
    "### 2-5. Ansatz circuit"
   ]
  },
  {
   "cell_type": "code",
   "execution_count": null,
   "id": "1cd389a6-5c08-426f-8008-40b1861ad27d",
   "metadata": {
    "tags": []
   },
   "outputs": [],
   "source": [
    "def apply_ansatz(qc, qr, params, n_ansatz_qubits):\n",
    "    qc = apply_single_qubit_gates(qc, qr, params[0:3*n_ansatz_qubits], n_ansatz_qubits)\n",
    "    qc = apply_two_qubit_gates(qc, qr, params[3*n_ansatz_qubits:4*n_ansatz_qubits], n_ansatz_qubits)\n",
    "    return qc\n",
    "\n",
    "ansatz_circuit = apply_ansatz(initialize_circuit(), reg_ansatz, params[0:4*N_ANSATZ_QUBITS], N_ANSATZ_QUBITS)\n",
    "ansatz_circuit.draw(\"mpl\")"
   ]
  },
  {
   "attachments": {},
   "cell_type": "markdown",
   "id": "56c9b88f",
   "metadata": {},
   "source": [
    "### 2-6. RUS Activation Block"
   ]
  },
  {
   "cell_type": "code",
   "execution_count": null,
   "id": "fbabb552",
   "metadata": {},
   "outputs": [],
   "source": [
    "def apply_partial_measurement(qc, qr_data, cr_y, cr_x, n_data_qubits, n_timestep):\n",
    "    if not isReal:\n",
    "        qc.barrier()\n",
    "    for i in range(n_data_qubits):\n",
    "        if i == 0 : qc.measure(qr_data[i], cr_y[n_timestep])\n",
    "        else : qc.measure(qr_data[i], cr_x[(n_data_qubits-1)*n_timestep+i-1])\n",
    "    return qc\n",
    "\n",
    "def apply_RUS_block_1fold(qc, qr_hid, qr_rus, cr_rus, params, n_hid_qubits, n_rus_qubits, n_timestep):\n",
    "    def trial(qc, target, control, measure, theta):\n",
    "        qc.ry(theta, control)\n",
    "        qc.cy(control, target)\n",
    "        qc.rz(-np.pi/2, control)\n",
    "        qc.ry(-theta, control)\n",
    "        qc.measure(control, measure)\n",
    "\n",
    "    def repeat_block(qc, target, control, measure, theta):\n",
    "        with qc.if_test((measure, 0)) as else_:\n",
    "            pass\n",
    "        with else_:\n",
    "            qc.x(control)\n",
    "            qc.ry(-np.pi/2, target)\n",
    "            trial(qc, target, control, measure, theta)\n",
    "\n",
    "    def apply_RUS(qc, target, control, measure, theta, max_trials):\n",
    "        trial(qc, target, control, measure, theta)\n",
    "        for _ in range(max_trials) : repeat_block(qc, target, control, measure, theta)\n",
    "        return qc\n",
    "\n",
    "    if not isReal:\n",
    "        qc.barrier()\n",
    "    qc.reset(qr_hid)\n",
    "    qc.reset(qr_rus)\n",
    "    for i in range(n_hid_qubits):\n",
    "        qc = apply_RUS(qc, qr_rus[i], qr_hid[i], cr_rus[n_timestep*n_hid_qubits+i], params[i], max_trials=3)\n",
    "\n",
    "    return qc\n",
    "\n",
    "qc = initialize_circuit()\n",
    "qc = apply_RUS_block_1fold(qc, reg_h, reg_rus, cr_rus, rus_thetas, N_HIDDEN_QUBITS, N_RUS_QUBITS, 0)\n",
    "qc.draw(\"mpl\")"
   ]
  },
  {
   "attachments": {},
   "cell_type": "markdown",
   "id": "4a1868e2-b94b-418b-a781-9858479da326",
   "metadata": {},
   "source": [
    "### 2-7. The quantum recurrent block"
   ]
  },
  {
   "cell_type": "code",
   "execution_count": null,
   "id": "e7dec0e5-248f-4a9d-99fe-91be972b5d85",
   "metadata": {
    "tags": []
   },
   "outputs": [],
   "source": [
    "def swap_hid_and_rus(reg_d, reg_h, reg_rus):\n",
    "    _reg_h = reg_rus\n",
    "    _reg_rus = reg_h\n",
    "    _reg_ansatz = reg_d + _reg_h\n",
    "\n",
    "    return (_reg_h, _reg_rus, _reg_ansatz)\n",
    "\n",
    "def apply_qrb(qc, reg_d, reg_h, reg_ansatz, reg_rus, cr_y, cr_x, cr_rus, params, thetas, n_data_qubits, n_ansatz_qubits, n_hid_qubits, n_rus_qubits, n_timestep):\n",
    "    if n_timestep > 0:\n",
    "        qc.reset(reg_d)\n",
    "    qc = encode_angle(qc, input_seq[n_timestep], reg_d, n_data_qubits)\n",
    "    qc = apply_ansatz(qc, reg_ansatz, params[4*n_timestep*n_ansatz_qubits:4*(n_timestep+1)*n_ansatz_qubits], n_ansatz_qubits)\n",
    "    qc = apply_partial_measurement(qc, reg_d, cr_y, cr_x, n_data_qubits, n_timestep)\n",
    "    qc = apply_RUS_block_1fold(qc, reg_h, reg_rus, cr_rus, thetas, n_hid_qubits, n_rus_qubits, n_timestep)\n",
    "    return qc"
   ]
  },
  {
   "cell_type": "code",
   "execution_count": null,
   "id": "be247ab5-4492-4014-9999-464e65d923d8",
   "metadata": {
    "tags": []
   },
   "outputs": [],
   "source": [
    "reg_d = qr_ansatz[0:N_QUBITS]\n",
    "reg_h = qr_ansatz[N_QUBITS:N_ANSATZ_QUBITS]\n",
    "reg_ansatz = qr_ansatz[0:N_ANSATZ_QUBITS]\n",
    "reg_rus = qr_ansatz[N_ANSATZ_QUBITS:N_TOTAL_QUBITS]\n",
    "\n",
    "pqrnn_circuit = initialize_circuit()\n",
    "for step in range(N_STEPS):\n",
    "    pqrnn_circuit = apply_qrb(pqrnn_circuit, reg_d, reg_h, reg_ansatz, reg_rus, cr_y, cr_x, cr_rus, params, rus_thetas, N_QUBITS, N_ANSATZ_QUBITS, N_HIDDEN_QUBITS, N_RUS_QUBITS, step)\n",
    "    (reg_h, reg_rus, reg_ansatz) = swap_hid_and_rus(reg_d, reg_h, reg_rus)\n",
    "\n",
    "pqrnn_circuit.draw(\"mpl\")"
   ]
  },
  {
   "cell_type": "code",
   "execution_count": null,
   "id": "9cee703c-b7f2-4569-9939-4ca8aedf5814",
   "metadata": {
    "tags": []
   },
   "outputs": [],
   "source": [
    "\"\"\"\n",
    "from qiskit.quantum_info import SparsePauliOp\n",
    "\n",
    "observable = SparsePauliOp(\"ZZZZZZ\")\n",
    "\n",
    "from qiskit.primitives import Estimator\n",
    "\n",
    "estimator = Estimator() #backend=backend)\n",
    "parameter_values = np.random.rand(50)\n",
    "\n",
    "job = estimator.run(sqrnn_circuit, observable, parameter_values)\n",
    "print(f\">>> Job ID: {job.job_id()}\")\n",
    "print(f\">>> Job Status: {job.status()}\")\n",
    "\"\"\""
   ]
  },
  {
   "cell_type": "code",
   "execution_count": null,
   "id": "13226fee-51c6-4b43-a1c8-e5e3f9fa3aa9",
   "metadata": {
    "tags": []
   },
   "outputs": [],
   "source": [
    "#print(job.result())"
   ]
  },
  {
   "cell_type": "code",
   "execution_count": null,
   "id": "bb5ff004-5429-4417-af5c-03ded3443396",
   "metadata": {
    "tags": []
   },
   "outputs": [],
   "source": [
    "\"\"\"\n",
    "#backend = Aer.get_backend(\"qasm_simulator\")\n",
    "#sampler = Sampler(\"ibmq_qasm_simulator\", options={'shots':N_SHOTS, 'seed':SEED})\n",
    "#estimator = Estimator(options={'shots':N_SHOTS, 'seed':SEED})\n",
    "\n",
    "sqrnn = EstimatorQNN(\n",
    "    circuit=sqrnn_circuit,\n",
    "    input_params=input_seq,\n",
    "    weight_params=params,\n",
    "    estimator=estimator\n",
    ")\n",
    "\n",
    "print(f\"num_inputs: {sqrnn.num_inputs}\")\n",
    "print(f\"num_weights: {sqrnn.num_weights}\")\n",
    "print(f\"observables: {sqrnn.observables}\")\n",
    "print(f\"output_shape: {sqrnn.output_shape}\")\n",
    "\"\"\""
   ]
  },
  {
   "cell_type": "code",
   "execution_count": null,
   "id": "63ae6e75-c1fb-445d-8f77-5b87ecbbd8c8",
   "metadata": {
    "tags": []
   },
   "outputs": [],
   "source": [
    "\"\"\"\n",
    "forward = sqrnn.forward(input_data=parameter_values[0:2], weights=parameter_values[2:50])\n",
    "print(forward)\n",
    "\"\"\""
   ]
  },
  {
   "cell_type": "code",
   "execution_count": null,
   "id": "5236211d-619f-4736-b00b-a5884604d4c3",
   "metadata": {
    "tags": []
   },
   "outputs": [],
   "source": [
    "\"\"\"\n",
    "def cost_func(params_values):\n",
    "    probabilities = qnn.forward(input_seq, params_values)\n",
    "    # we pick a probability of getting 1 as the output of the network\n",
    "    cost = np.sum(probabilities[:, 1])\n",
    "\n",
    "    # plotting part\n",
    "    clear_output(wait=True)\n",
    "    objective_func_vals.append(cost)\n",
    "    plt.title(\"Objective function value against iteration\")\n",
    "    plt.xlabel(\"Iteration\")\n",
    "    plt.ylabel(\"Objective function value\")\n",
    "    plt.plot(range(len(objective_func_vals)), objective_func_vals)\n",
    "    plt.show()\n",
    "    return cost\n",
    "\n",
    "def cost_func_digits(params_values):\n",
    "    probabilities = qnn.forward(train_images, params_values)\n",
    "    cost = np.sum(probabilities[:, 1]) / train_images.shape[0]\n",
    "\n",
    "    # plotting part\n",
    "    clear_output(wait=True)\n",
    "    objective_func_vals.append(cost)\n",
    "    plt.title(\"Objective function value against iteration\")\n",
    "    plt.xlabel(\"Iteration\")\n",
    "    plt.ylabel(\"Objective function value\")\n",
    "    plt.plot(range(len(objective_func_vals)), objective_func_vals)\n",
    "    plt.show()\n",
    "\n",
    "    return cost\n",
    "    \"\"\""
   ]
  }
 ],
 "metadata": {
  "kernelspec": {
   "display_name": "Python 3.10.6 ('.venv': venv)",
   "language": "python",
   "name": "python3"
  },
  "language_info": {
   "codemirror_mode": {
    "name": "ipython",
    "version": 3
   },
   "file_extension": ".py",
   "mimetype": "text/x-python",
   "name": "python",
   "nbconvert_exporter": "python",
   "pygments_lexer": "ipython3",
   "version": "3.10.6"
  },
  "vscode": {
   "interpreter": {
    "hash": "cd838ed429365021571362c51f8a905fc213e25cce9f375e941ccfab53a3a26c"
   }
  },
  "widgets": {
   "application/vnd.jupyter.widget-state+json": {
    "state": {
     "04c95b96804e4b95969101288e5e012a": {
      "model_module": "@jupyter-widgets/base",
      "model_module_version": "2.0.0",
      "model_name": "LayoutModel",
      "state": {
       "width": "190px"
      }
     },
     "1726d6f4648d4f9cb053851db206c052": {
      "model_module": "@jupyter-widgets/controls",
      "model_module_version": "2.0.0",
      "model_name": "ButtonModel",
      "state": {
       "button_style": "primary",
       "description": "Clear",
       "layout": "IPY_MODEL_24c609004ec64665bfca0f1243479b8b",
       "style": "IPY_MODEL_8697efda32bc4cbd846f7d31358410ab",
       "tooltip": null
      }
     },
     "24c609004ec64665bfca0f1243479b8b": {
      "model_module": "@jupyter-widgets/base",
      "model_module_version": "2.0.0",
      "model_name": "LayoutModel",
      "state": {
       "grid_area": "right",
       "padding": "0px 0px 0px 0px",
       "width": "70px"
      }
     },
     "2bc46051ad9643c6b4d308fb3db7bdd0": {
      "model_module": "@jupyter-widgets/controls",
      "model_module_version": "2.0.0",
      "model_name": "HTMLModel",
      "state": {
       "layout": "IPY_MODEL_c24fb658ce994c49863b5160a7ecbcf6",
       "style": "IPY_MODEL_4945fcaa697c441ab547bbd4eed206f1",
       "value": "<p style='font-family: IBM Plex Sans, Arial, Helvetica, sans-serif; font-size: 20px; font-weight: medium;'>Circuit Properties</p>"
      }
     },
     "3d8071006fe34a108940795cb0ebb88e": {
      "model_module": "@jupyter-widgets/controls",
      "model_module_version": "2.0.0",
      "model_name": "HBoxModel",
      "state": {
       "children": [
        "IPY_MODEL_f1439b9802e64210916358bf8537c884",
        "IPY_MODEL_7696c1317a3f427087bf02ec165dd0c4",
        "IPY_MODEL_c470693ffb5b447f9cc87c0c93f74464",
        "IPY_MODEL_9839f913909643bdb06d7c6126579c70",
        "IPY_MODEL_fee51ed7316142e185917095ce224faf"
       ],
       "layout": "IPY_MODEL_91795bf0656c4d879039ab80073cc684"
      }
     },
     "4945fcaa697c441ab547bbd4eed206f1": {
      "model_module": "@jupyter-widgets/controls",
      "model_module_version": "2.0.0",
      "model_name": "HTMLStyleModel",
      "state": {
       "description_width": "",
       "font_size": null,
       "text_color": null
      }
     },
     "701613d0249d4e3391ba54e35373e2d5": {
      "model_module": "@jupyter-widgets/controls",
      "model_module_version": "2.0.0",
      "model_name": "HTMLStyleModel",
      "state": {
       "description_width": "",
       "font_size": null,
       "text_color": null
      }
     },
     "752e6a115e65465da529e74e53a67ed1": {
      "model_module": "@jupyter-widgets/base",
      "model_module_version": "2.0.0",
      "model_name": "LayoutModel",
      "state": {
       "width": "145px"
      }
     },
     "7696c1317a3f427087bf02ec165dd0c4": {
      "model_module": "@jupyter-widgets/controls",
      "model_module_version": "2.0.0",
      "model_name": "HTMLModel",
      "state": {
       "layout": "IPY_MODEL_752e6a115e65465da529e74e53a67ed1",
       "style": "IPY_MODEL_8628ca95d2574e9eb2d2b5cfc9733ecd",
       "value": "<h5>Backend</h5>"
      }
     },
     "8628ca95d2574e9eb2d2b5cfc9733ecd": {
      "model_module": "@jupyter-widgets/controls",
      "model_module_version": "2.0.0",
      "model_name": "HTMLStyleModel",
      "state": {
       "description_width": "",
       "font_size": null,
       "text_color": null
      }
     },
     "8697efda32bc4cbd846f7d31358410ab": {
      "model_module": "@jupyter-widgets/controls",
      "model_module_version": "2.0.0",
      "model_name": "ButtonStyleModel",
      "state": {
       "font_family": null,
       "font_size": null,
       "font_style": null,
       "font_variant": null,
       "font_weight": null,
       "text_color": null,
       "text_decoration": null
      }
     },
     "91795bf0656c4d879039ab80073cc684": {
      "model_module": "@jupyter-widgets/base",
      "model_module_version": "2.0.0",
      "model_name": "LayoutModel",
      "state": {
       "margin": "0px 0px 0px 37px",
       "width": "600px"
      }
     },
     "9839f913909643bdb06d7c6126579c70": {
      "model_module": "@jupyter-widgets/controls",
      "model_module_version": "2.0.0",
      "model_name": "HTMLModel",
      "state": {
       "layout": "IPY_MODEL_e99dc6056e3d41e1bcf69bd638b05360",
       "style": "IPY_MODEL_ed2c0d62804c41b2bdfb68bf0c71d502",
       "value": "<h5>Queue</h5>"
      }
     },
     "a4f299f7106448b2a7d9b1edbbf5fd92": {
      "model_module": "@jupyter-widgets/base",
      "model_module_version": "2.0.0",
      "model_name": "LayoutModel",
      "state": {
       "width": "95px"
      }
     },
     "a67998a884a744309ae062d8c38f53d9": {
      "model_module": "@jupyter-widgets/controls",
      "model_module_version": "2.0.0",
      "model_name": "HTMLStyleModel",
      "state": {
       "description_width": "",
       "font_size": null,
       "text_color": null
      }
     },
     "c24fb658ce994c49863b5160a7ecbcf6": {
      "model_module": "@jupyter-widgets/base",
      "model_module_version": "2.0.0",
      "model_name": "LayoutModel",
      "state": {
       "margin": "0px 0px 10px 0px"
      }
     },
     "c470693ffb5b447f9cc87c0c93f74464": {
      "model_module": "@jupyter-widgets/controls",
      "model_module_version": "2.0.0",
      "model_name": "HTMLModel",
      "state": {
       "layout": "IPY_MODEL_a4f299f7106448b2a7d9b1edbbf5fd92",
       "style": "IPY_MODEL_f56fd2d0a9114ed896f29284e5a91c45",
       "value": "<h5>Status</h5>"
      }
     },
     "e99dc6056e3d41e1bcf69bd638b05360": {
      "model_module": "@jupyter-widgets/base",
      "model_module_version": "2.0.0",
      "model_name": "LayoutModel",
      "state": {
       "width": "70px"
      }
     },
     "ed2c0d62804c41b2bdfb68bf0c71d502": {
      "model_module": "@jupyter-widgets/controls",
      "model_module_version": "2.0.0",
      "model_name": "HTMLStyleModel",
      "state": {
       "description_width": "",
       "font_size": null,
       "text_color": null
      }
     },
     "f1439b9802e64210916358bf8537c884": {
      "model_module": "@jupyter-widgets/controls",
      "model_module_version": "2.0.0",
      "model_name": "HTMLModel",
      "state": {
       "layout": "IPY_MODEL_04c95b96804e4b95969101288e5e012a",
       "style": "IPY_MODEL_a67998a884a744309ae062d8c38f53d9",
       "value": "<h5>Job ID</h5>"
      }
     },
     "f19ccb5faa994a91a34c6add2ea318a3": {
      "model_module": "@jupyter-widgets/base",
      "model_module_version": "2.0.0",
      "model_name": "LayoutModel",
      "state": {}
     },
     "f56fd2d0a9114ed896f29284e5a91c45": {
      "model_module": "@jupyter-widgets/controls",
      "model_module_version": "2.0.0",
      "model_name": "HTMLStyleModel",
      "state": {
       "description_width": "",
       "font_size": null,
       "text_color": null
      }
     },
     "f8e964eb55e34832878177ceff0ebb37": {
      "model_module": "@jupyter-widgets/base",
      "model_module_version": "2.0.0",
      "model_name": "LayoutModel",
      "state": {
       "grid_template_areas": "\n                                       \". . . . right \"\n                                        ",
       "grid_template_columns": "20% 20% 20% 20% 20%",
       "width": "100%"
      }
     },
     "fe06a9887a02434eaeb0fa669b0f8fe2": {
      "model_module": "@jupyter-widgets/controls",
      "model_module_version": "2.0.0",
      "model_name": "GridBoxModel",
      "state": {
       "children": [
        "IPY_MODEL_1726d6f4648d4f9cb053851db206c052"
       ],
       "layout": "IPY_MODEL_f8e964eb55e34832878177ceff0ebb37"
      }
     },
     "fee51ed7316142e185917095ce224faf": {
      "model_module": "@jupyter-widgets/controls",
      "model_module_version": "2.0.0",
      "model_name": "HTMLModel",
      "state": {
       "layout": "IPY_MODEL_f19ccb5faa994a91a34c6add2ea318a3",
       "style": "IPY_MODEL_701613d0249d4e3391ba54e35373e2d5",
       "value": "<h5>Message</h5>"
      }
     }
    },
    "version_major": 2,
    "version_minor": 0
   }
  }
 },
 "nbformat": 4,
 "nbformat_minor": 5
}
